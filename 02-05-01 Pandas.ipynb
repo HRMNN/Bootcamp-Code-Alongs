{
 "cells": [
  {
   "cell_type": "markdown",
   "metadata": {},
   "source": [
    "# Code-Along : Pandas"
   ]
  },
  {
   "cell_type": "markdown",
   "metadata": {},
   "source": [
    "## 00 : Setting up Workshop"
   ]
  },
  {
   "cell_type": "markdown",
   "metadata": {
    "collapsed": true
   },
   "source": [
    "### Clean Namespace"
   ]
  },
  {
   "cell_type": "code",
   "execution_count": 2,
   "metadata": {},
   "outputs": [],
   "source": [
    "reset -fs"
   ]
  },
  {
   "cell_type": "markdown",
   "metadata": {},
   "source": [
    "### Import Libraries and Specific Functions"
   ]
  },
  {
   "cell_type": "code",
   "execution_count": 16,
   "metadata": {},
   "outputs": [],
   "source": [
    "## Import Libraries\n",
    "# DataFrames\n",
    "import pandas as pd\n",
    "# Arrays and Array Math\n",
    "import numpy as np\n",
    "# Basic Visualizations\n",
    "import matplotlib.pyplot as plt\n",
    "\n",
    "## Import specific Functions\n",
    "# Scatter Matrix\n",
    "from pandas.tools.plotting import scatter_matrix\n",
    "\n",
    "## Settings\n",
    "# Draw Plots in Notebook\n",
    "%matplotlib inline "
   ]
  },
  {
   "cell_type": "markdown",
   "metadata": {},
   "source": [
    "## 02 : Data Mining"
   ]
  },
  {
   "cell_type": "code",
   "execution_count": 4,
   "metadata": {},
   "outputs": [],
   "source": [
    "# Create Data\n",
    "neighborhoods = [\"Bayview\", \"Chinatown\", \"Excelsior\", \"Haight Ashbury\"]\n",
    "populations   = [35890, 14540, 37960, 21800]\n",
    "data          = list(zip(neighborhoods, populations))\n",
    "\n",
    "data_nb_raw   = pd.DataFrame(data =  data,\n",
    "                             columns=[\"neighborhood\", \"population\"])\n",
    "\n",
    "# Import Data\n",
    "data_al_raw   = pd.read_csv(\"data/abalone.csv\")"
   ]
  },
  {
   "cell_type": "markdown",
   "metadata": {},
   "source": [
    "## 03 : Data Exploration"
   ]
  },
  {
   "cell_type": "code",
   "execution_count": 5,
   "metadata": {},
   "outputs": [
    {
     "data": {
      "text/plain": [
       "0    35890\n",
       "1    14540\n",
       "2    37960\n",
       "3    21800\n",
       "Name: population, dtype: int64"
      ]
     },
     "execution_count": 5,
     "metadata": {},
     "output_type": "execute_result"
    }
   ],
   "source": [
    "data_nb_raw.population"
   ]
  },
  {
   "cell_type": "code",
   "execution_count": 6,
   "metadata": {},
   "outputs": [
    {
     "data": {
      "text/plain": [
       "110190"
      ]
     },
     "execution_count": 6,
     "metadata": {},
     "output_type": "execute_result"
    }
   ],
   "source": [
    "data_nb_raw.population.sum()"
   ]
  },
  {
   "cell_type": "markdown",
   "metadata": {},
   "source": [
    "Reading a .csv (comma separated value) file.\n",
    "\n",
    "[Source](https://archive.ics.uci.edu/ml/datasets/Abalone)"
   ]
  },
  {
   "cell_type": "code",
   "execution_count": 7,
   "metadata": {},
   "outputs": [
    {
     "name": "stdout",
     "output_type": "stream",
     "text": [
      "  sex  length  diameter  height  weight_whole  weight_shucked  viscera  shell  \\\n",
      "0   M   0.455     0.365   0.095        0.5140          0.2245   0.1010  0.150   \n",
      "1   M   0.350     0.265   0.090        0.2255          0.0995   0.0485  0.070   \n",
      "2   F   0.530     0.420   0.135        0.6770          0.2565   0.1415  0.210   \n",
      "3   M   0.440     0.365   0.125        0.5160          0.2155   0.1140  0.155   \n",
      "4   I   0.330     0.255   0.080        0.2050          0.0895   0.0395  0.055   \n",
      "\n",
      "   n_rings  \n",
      "0       15  \n",
      "1        7  \n",
      "2        9  \n",
      "3       10  \n",
      "4        7  \n",
      "     sex  length  diameter  height  weight_whole  weight_shucked  viscera  \\\n",
      "4172   F   0.565     0.450   0.165        0.8870          0.3700   0.2390   \n",
      "4173   M   0.590     0.440   0.135        0.9660          0.4390   0.2145   \n",
      "4174   M   0.600     0.475   0.205        1.1760          0.5255   0.2875   \n",
      "4175   F   0.625     0.485   0.150        1.0945          0.5310   0.2610   \n",
      "4176   M   0.710     0.555   0.195        1.9485          0.9455   0.3765   \n",
      "\n",
      "       shell  n_rings  \n",
      "4172  0.2490       11  \n",
      "4173  0.2605       10  \n",
      "4174  0.3080        9  \n",
      "4175  0.2960       10  \n",
      "4176  0.4950       12  \n"
     ]
    }
   ],
   "source": [
    "# First/ Last 5 Rows\n",
    "print(data_al_raw.head())\n",
    "print(data_al_raw.tail())"
   ]
  },
  {
   "cell_type": "code",
   "execution_count": 8,
   "metadata": {},
   "outputs": [
    {
     "data": {
      "text/html": [
       "<div>\n",
       "<style scoped>\n",
       "    .dataframe tbody tr th:only-of-type {\n",
       "        vertical-align: middle;\n",
       "    }\n",
       "\n",
       "    .dataframe tbody tr th {\n",
       "        vertical-align: top;\n",
       "    }\n",
       "\n",
       "    .dataframe thead th {\n",
       "        text-align: right;\n",
       "    }\n",
       "</style>\n",
       "<table border=\"1\" class=\"dataframe\">\n",
       "  <thead>\n",
       "    <tr style=\"text-align: right;\">\n",
       "      <th></th>\n",
       "      <th>length</th>\n",
       "      <th>diameter</th>\n",
       "      <th>height</th>\n",
       "      <th>weight_whole</th>\n",
       "      <th>weight_shucked</th>\n",
       "      <th>viscera</th>\n",
       "      <th>shell</th>\n",
       "      <th>n_rings</th>\n",
       "    </tr>\n",
       "  </thead>\n",
       "  <tbody>\n",
       "    <tr>\n",
       "      <th>count</th>\n",
       "      <td>4177.000000</td>\n",
       "      <td>4177.000000</td>\n",
       "      <td>4177.000000</td>\n",
       "      <td>4177.000000</td>\n",
       "      <td>4177.000000</td>\n",
       "      <td>4177.000000</td>\n",
       "      <td>4177.000000</td>\n",
       "      <td>4177.000000</td>\n",
       "    </tr>\n",
       "    <tr>\n",
       "      <th>mean</th>\n",
       "      <td>0.523992</td>\n",
       "      <td>0.407881</td>\n",
       "      <td>0.139516</td>\n",
       "      <td>0.828742</td>\n",
       "      <td>0.359367</td>\n",
       "      <td>0.180594</td>\n",
       "      <td>0.238831</td>\n",
       "      <td>9.933684</td>\n",
       "    </tr>\n",
       "    <tr>\n",
       "      <th>std</th>\n",
       "      <td>0.120093</td>\n",
       "      <td>0.099240</td>\n",
       "      <td>0.041827</td>\n",
       "      <td>0.490389</td>\n",
       "      <td>0.221963</td>\n",
       "      <td>0.109614</td>\n",
       "      <td>0.139203</td>\n",
       "      <td>3.224169</td>\n",
       "    </tr>\n",
       "    <tr>\n",
       "      <th>min</th>\n",
       "      <td>0.075000</td>\n",
       "      <td>0.055000</td>\n",
       "      <td>0.000000</td>\n",
       "      <td>0.002000</td>\n",
       "      <td>0.001000</td>\n",
       "      <td>0.000500</td>\n",
       "      <td>0.001500</td>\n",
       "      <td>1.000000</td>\n",
       "    </tr>\n",
       "    <tr>\n",
       "      <th>25%</th>\n",
       "      <td>0.450000</td>\n",
       "      <td>0.350000</td>\n",
       "      <td>0.115000</td>\n",
       "      <td>0.441500</td>\n",
       "      <td>0.186000</td>\n",
       "      <td>0.093500</td>\n",
       "      <td>0.130000</td>\n",
       "      <td>8.000000</td>\n",
       "    </tr>\n",
       "    <tr>\n",
       "      <th>50%</th>\n",
       "      <td>0.545000</td>\n",
       "      <td>0.425000</td>\n",
       "      <td>0.140000</td>\n",
       "      <td>0.799500</td>\n",
       "      <td>0.336000</td>\n",
       "      <td>0.171000</td>\n",
       "      <td>0.234000</td>\n",
       "      <td>9.000000</td>\n",
       "    </tr>\n",
       "    <tr>\n",
       "      <th>75%</th>\n",
       "      <td>0.615000</td>\n",
       "      <td>0.480000</td>\n",
       "      <td>0.165000</td>\n",
       "      <td>1.153000</td>\n",
       "      <td>0.502000</td>\n",
       "      <td>0.253000</td>\n",
       "      <td>0.329000</td>\n",
       "      <td>11.000000</td>\n",
       "    </tr>\n",
       "    <tr>\n",
       "      <th>max</th>\n",
       "      <td>0.815000</td>\n",
       "      <td>0.650000</td>\n",
       "      <td>1.130000</td>\n",
       "      <td>2.825500</td>\n",
       "      <td>1.488000</td>\n",
       "      <td>0.760000</td>\n",
       "      <td>1.005000</td>\n",
       "      <td>29.000000</td>\n",
       "    </tr>\n",
       "  </tbody>\n",
       "</table>\n",
       "</div>"
      ],
      "text/plain": [
       "            length     diameter       height  weight_whole  weight_shucked  \\\n",
       "count  4177.000000  4177.000000  4177.000000   4177.000000     4177.000000   \n",
       "mean      0.523992     0.407881     0.139516      0.828742        0.359367   \n",
       "std       0.120093     0.099240     0.041827      0.490389        0.221963   \n",
       "min       0.075000     0.055000     0.000000      0.002000        0.001000   \n",
       "25%       0.450000     0.350000     0.115000      0.441500        0.186000   \n",
       "50%       0.545000     0.425000     0.140000      0.799500        0.336000   \n",
       "75%       0.615000     0.480000     0.165000      1.153000        0.502000   \n",
       "max       0.815000     0.650000     1.130000      2.825500        1.488000   \n",
       "\n",
       "           viscera        shell      n_rings  \n",
       "count  4177.000000  4177.000000  4177.000000  \n",
       "mean      0.180594     0.238831     9.933684  \n",
       "std       0.109614     0.139203     3.224169  \n",
       "min       0.000500     0.001500     1.000000  \n",
       "25%       0.093500     0.130000     8.000000  \n",
       "50%       0.171000     0.234000     9.000000  \n",
       "75%       0.253000     0.329000    11.000000  \n",
       "max       0.760000     1.005000    29.000000  "
      ]
     },
     "execution_count": 8,
     "metadata": {},
     "output_type": "execute_result"
    }
   ],
   "source": [
    "# Summarize data\n",
    "data_al_raw.describe()"
   ]
  },
  {
   "cell_type": "code",
   "execution_count": 9,
   "metadata": {},
   "outputs": [
    {
     "data": {
      "text/plain": [
       "(4177, 9)"
      ]
     },
     "execution_count": 9,
     "metadata": {},
     "output_type": "execute_result"
    }
   ],
   "source": [
    "# Show Dimensions\n",
    "data_al_raw.shape    "
   ]
  },
  {
   "cell_type": "code",
   "execution_count": 10,
   "metadata": {},
   "outputs": [
    {
     "data": {
      "text/html": [
       "<div>\n",
       "<style scoped>\n",
       "    .dataframe tbody tr th:only-of-type {\n",
       "        vertical-align: middle;\n",
       "    }\n",
       "\n",
       "    .dataframe tbody tr th {\n",
       "        vertical-align: top;\n",
       "    }\n",
       "\n",
       "    .dataframe thead th {\n",
       "        text-align: right;\n",
       "    }\n",
       "</style>\n",
       "<table border=\"1\" class=\"dataframe\">\n",
       "  <thead>\n",
       "    <tr style=\"text-align: right;\">\n",
       "      <th></th>\n",
       "      <th>0</th>\n",
       "      <th>1</th>\n",
       "      <th>2</th>\n",
       "      <th>3</th>\n",
       "      <th>4</th>\n",
       "      <th>5</th>\n",
       "      <th>6</th>\n",
       "      <th>7</th>\n",
       "      <th>8</th>\n",
       "      <th>9</th>\n",
       "      <th>...</th>\n",
       "      <th>4167</th>\n",
       "      <th>4168</th>\n",
       "      <th>4169</th>\n",
       "      <th>4170</th>\n",
       "      <th>4171</th>\n",
       "      <th>4172</th>\n",
       "      <th>4173</th>\n",
       "      <th>4174</th>\n",
       "      <th>4175</th>\n",
       "      <th>4176</th>\n",
       "    </tr>\n",
       "  </thead>\n",
       "  <tbody>\n",
       "    <tr>\n",
       "      <th>sex</th>\n",
       "      <td>M</td>\n",
       "      <td>M</td>\n",
       "      <td>F</td>\n",
       "      <td>M</td>\n",
       "      <td>I</td>\n",
       "      <td>I</td>\n",
       "      <td>F</td>\n",
       "      <td>F</td>\n",
       "      <td>M</td>\n",
       "      <td>F</td>\n",
       "      <td>...</td>\n",
       "      <td>M</td>\n",
       "      <td>F</td>\n",
       "      <td>M</td>\n",
       "      <td>M</td>\n",
       "      <td>M</td>\n",
       "      <td>F</td>\n",
       "      <td>M</td>\n",
       "      <td>M</td>\n",
       "      <td>F</td>\n",
       "      <td>M</td>\n",
       "    </tr>\n",
       "    <tr>\n",
       "      <th>length</th>\n",
       "      <td>0.455</td>\n",
       "      <td>0.35</td>\n",
       "      <td>0.53</td>\n",
       "      <td>0.44</td>\n",
       "      <td>0.33</td>\n",
       "      <td>0.425</td>\n",
       "      <td>0.53</td>\n",
       "      <td>0.545</td>\n",
       "      <td>0.475</td>\n",
       "      <td>0.55</td>\n",
       "      <td>...</td>\n",
       "      <td>0.5</td>\n",
       "      <td>0.515</td>\n",
       "      <td>0.52</td>\n",
       "      <td>0.55</td>\n",
       "      <td>0.56</td>\n",
       "      <td>0.565</td>\n",
       "      <td>0.59</td>\n",
       "      <td>0.6</td>\n",
       "      <td>0.625</td>\n",
       "      <td>0.71</td>\n",
       "    </tr>\n",
       "    <tr>\n",
       "      <th>diameter</th>\n",
       "      <td>0.365</td>\n",
       "      <td>0.265</td>\n",
       "      <td>0.42</td>\n",
       "      <td>0.365</td>\n",
       "      <td>0.255</td>\n",
       "      <td>0.3</td>\n",
       "      <td>0.415</td>\n",
       "      <td>0.425</td>\n",
       "      <td>0.37</td>\n",
       "      <td>0.44</td>\n",
       "      <td>...</td>\n",
       "      <td>0.38</td>\n",
       "      <td>0.4</td>\n",
       "      <td>0.385</td>\n",
       "      <td>0.43</td>\n",
       "      <td>0.43</td>\n",
       "      <td>0.45</td>\n",
       "      <td>0.44</td>\n",
       "      <td>0.475</td>\n",
       "      <td>0.485</td>\n",
       "      <td>0.555</td>\n",
       "    </tr>\n",
       "    <tr>\n",
       "      <th>height</th>\n",
       "      <td>0.095</td>\n",
       "      <td>0.09</td>\n",
       "      <td>0.135</td>\n",
       "      <td>0.125</td>\n",
       "      <td>0.08</td>\n",
       "      <td>0.095</td>\n",
       "      <td>0.15</td>\n",
       "      <td>0.125</td>\n",
       "      <td>0.125</td>\n",
       "      <td>0.15</td>\n",
       "      <td>...</td>\n",
       "      <td>0.125</td>\n",
       "      <td>0.125</td>\n",
       "      <td>0.165</td>\n",
       "      <td>0.13</td>\n",
       "      <td>0.155</td>\n",
       "      <td>0.165</td>\n",
       "      <td>0.135</td>\n",
       "      <td>0.205</td>\n",
       "      <td>0.15</td>\n",
       "      <td>0.195</td>\n",
       "    </tr>\n",
       "    <tr>\n",
       "      <th>weight_whole</th>\n",
       "      <td>0.514</td>\n",
       "      <td>0.2255</td>\n",
       "      <td>0.677</td>\n",
       "      <td>0.516</td>\n",
       "      <td>0.205</td>\n",
       "      <td>0.3515</td>\n",
       "      <td>0.7775</td>\n",
       "      <td>0.768</td>\n",
       "      <td>0.5095</td>\n",
       "      <td>0.8945</td>\n",
       "      <td>...</td>\n",
       "      <td>0.577</td>\n",
       "      <td>0.615</td>\n",
       "      <td>0.791</td>\n",
       "      <td>0.8395</td>\n",
       "      <td>0.8675</td>\n",
       "      <td>0.887</td>\n",
       "      <td>0.966</td>\n",
       "      <td>1.176</td>\n",
       "      <td>1.0945</td>\n",
       "      <td>1.9485</td>\n",
       "    </tr>\n",
       "    <tr>\n",
       "      <th>weight_shucked</th>\n",
       "      <td>0.2245</td>\n",
       "      <td>0.0995</td>\n",
       "      <td>0.2565</td>\n",
       "      <td>0.2155</td>\n",
       "      <td>0.0895</td>\n",
       "      <td>0.141</td>\n",
       "      <td>0.237</td>\n",
       "      <td>0.294</td>\n",
       "      <td>0.2165</td>\n",
       "      <td>0.3145</td>\n",
       "      <td>...</td>\n",
       "      <td>0.269</td>\n",
       "      <td>0.2865</td>\n",
       "      <td>0.375</td>\n",
       "      <td>0.3155</td>\n",
       "      <td>0.4</td>\n",
       "      <td>0.37</td>\n",
       "      <td>0.439</td>\n",
       "      <td>0.5255</td>\n",
       "      <td>0.531</td>\n",
       "      <td>0.9455</td>\n",
       "    </tr>\n",
       "    <tr>\n",
       "      <th>viscera</th>\n",
       "      <td>0.101</td>\n",
       "      <td>0.0485</td>\n",
       "      <td>0.1415</td>\n",
       "      <td>0.114</td>\n",
       "      <td>0.0395</td>\n",
       "      <td>0.0775</td>\n",
       "      <td>0.1415</td>\n",
       "      <td>0.1495</td>\n",
       "      <td>0.1125</td>\n",
       "      <td>0.151</td>\n",
       "      <td>...</td>\n",
       "      <td>0.1265</td>\n",
       "      <td>0.123</td>\n",
       "      <td>0.18</td>\n",
       "      <td>0.1955</td>\n",
       "      <td>0.172</td>\n",
       "      <td>0.239</td>\n",
       "      <td>0.2145</td>\n",
       "      <td>0.2875</td>\n",
       "      <td>0.261</td>\n",
       "      <td>0.3765</td>\n",
       "    </tr>\n",
       "    <tr>\n",
       "      <th>shell</th>\n",
       "      <td>0.15</td>\n",
       "      <td>0.07</td>\n",
       "      <td>0.21</td>\n",
       "      <td>0.155</td>\n",
       "      <td>0.055</td>\n",
       "      <td>0.12</td>\n",
       "      <td>0.33</td>\n",
       "      <td>0.26</td>\n",
       "      <td>0.165</td>\n",
       "      <td>0.32</td>\n",
       "      <td>...</td>\n",
       "      <td>0.1535</td>\n",
       "      <td>0.1765</td>\n",
       "      <td>0.1815</td>\n",
       "      <td>0.2405</td>\n",
       "      <td>0.229</td>\n",
       "      <td>0.249</td>\n",
       "      <td>0.2605</td>\n",
       "      <td>0.308</td>\n",
       "      <td>0.296</td>\n",
       "      <td>0.495</td>\n",
       "    </tr>\n",
       "    <tr>\n",
       "      <th>n_rings</th>\n",
       "      <td>15</td>\n",
       "      <td>7</td>\n",
       "      <td>9</td>\n",
       "      <td>10</td>\n",
       "      <td>7</td>\n",
       "      <td>8</td>\n",
       "      <td>20</td>\n",
       "      <td>16</td>\n",
       "      <td>9</td>\n",
       "      <td>19</td>\n",
       "      <td>...</td>\n",
       "      <td>9</td>\n",
       "      <td>8</td>\n",
       "      <td>10</td>\n",
       "      <td>10</td>\n",
       "      <td>8</td>\n",
       "      <td>11</td>\n",
       "      <td>10</td>\n",
       "      <td>9</td>\n",
       "      <td>10</td>\n",
       "      <td>12</td>\n",
       "    </tr>\n",
       "  </tbody>\n",
       "</table>\n",
       "<p>9 rows × 4177 columns</p>\n",
       "</div>"
      ],
      "text/plain": [
       "                  0       1       2       3       4       5       6     \\\n",
       "sex                  M       M       F       M       I       I       F   \n",
       "length           0.455    0.35    0.53    0.44    0.33   0.425    0.53   \n",
       "diameter         0.365   0.265    0.42   0.365   0.255     0.3   0.415   \n",
       "height           0.095    0.09   0.135   0.125    0.08   0.095    0.15   \n",
       "weight_whole     0.514  0.2255   0.677   0.516   0.205  0.3515  0.7775   \n",
       "weight_shucked  0.2245  0.0995  0.2565  0.2155  0.0895   0.141   0.237   \n",
       "viscera          0.101  0.0485  0.1415   0.114  0.0395  0.0775  0.1415   \n",
       "shell             0.15    0.07    0.21   0.155   0.055    0.12    0.33   \n",
       "n_rings             15       7       9      10       7       8      20   \n",
       "\n",
       "                  7       8       9      ...      4167    4168    4169  \\\n",
       "sex                  F       M       F   ...         M       F       M   \n",
       "length           0.545   0.475    0.55   ...       0.5   0.515    0.52   \n",
       "diameter         0.425    0.37    0.44   ...      0.38     0.4   0.385   \n",
       "height           0.125   0.125    0.15   ...     0.125   0.125   0.165   \n",
       "weight_whole     0.768  0.5095  0.8945   ...     0.577   0.615   0.791   \n",
       "weight_shucked   0.294  0.2165  0.3145   ...     0.269  0.2865   0.375   \n",
       "viscera         0.1495  0.1125   0.151   ...    0.1265   0.123    0.18   \n",
       "shell             0.26   0.165    0.32   ...    0.1535  0.1765  0.1815   \n",
       "n_rings             16       9      19   ...         9       8      10   \n",
       "\n",
       "                  4170    4171   4172    4173    4174    4175    4176  \n",
       "sex                  M       M      F       M       M       F       M  \n",
       "length            0.55    0.56  0.565    0.59     0.6   0.625    0.71  \n",
       "diameter          0.43    0.43   0.45    0.44   0.475   0.485   0.555  \n",
       "height            0.13   0.155  0.165   0.135   0.205    0.15   0.195  \n",
       "weight_whole    0.8395  0.8675  0.887   0.966   1.176  1.0945  1.9485  \n",
       "weight_shucked  0.3155     0.4   0.37   0.439  0.5255   0.531  0.9455  \n",
       "viscera         0.1955   0.172  0.239  0.2145  0.2875   0.261  0.3765  \n",
       "shell           0.2405   0.229  0.249  0.2605   0.308   0.296   0.495  \n",
       "n_rings             10       8     11      10       9      10      12  \n",
       "\n",
       "[9 rows x 4177 columns]"
      ]
     },
     "execution_count": 10,
     "metadata": {},
     "output_type": "execute_result"
    }
   ],
   "source": [
    "# Transpose data\n",
    "data_al_raw.T"
   ]
  },
  {
   "cell_type": "code",
   "execution_count": 11,
   "metadata": {},
   "outputs": [
    {
     "data": {
      "text/html": [
       "<div>\n",
       "<style scoped>\n",
       "    .dataframe tbody tr th:only-of-type {\n",
       "        vertical-align: middle;\n",
       "    }\n",
       "\n",
       "    .dataframe tbody tr th {\n",
       "        vertical-align: top;\n",
       "    }\n",
       "\n",
       "    .dataframe thead th {\n",
       "        text-align: right;\n",
       "    }\n",
       "</style>\n",
       "<table border=\"1\" class=\"dataframe\">\n",
       "  <thead>\n",
       "    <tr style=\"text-align: right;\">\n",
       "      <th></th>\n",
       "      <th>sex</th>\n",
       "      <th>length</th>\n",
       "      <th>diameter</th>\n",
       "      <th>height</th>\n",
       "      <th>weight_whole</th>\n",
       "      <th>weight_shucked</th>\n",
       "      <th>viscera</th>\n",
       "      <th>shell</th>\n",
       "      <th>n_rings</th>\n",
       "    </tr>\n",
       "  </thead>\n",
       "  <tbody>\n",
       "    <tr>\n",
       "      <th>236</th>\n",
       "      <td>I</td>\n",
       "      <td>0.075</td>\n",
       "      <td>0.055</td>\n",
       "      <td>0.010</td>\n",
       "      <td>0.002</td>\n",
       "      <td>0.0010</td>\n",
       "      <td>0.0005</td>\n",
       "      <td>0.0015</td>\n",
       "      <td>1</td>\n",
       "    </tr>\n",
       "    <tr>\n",
       "      <th>719</th>\n",
       "      <td>I</td>\n",
       "      <td>0.150</td>\n",
       "      <td>0.100</td>\n",
       "      <td>0.025</td>\n",
       "      <td>0.015</td>\n",
       "      <td>0.0045</td>\n",
       "      <td>0.0040</td>\n",
       "      <td>0.0050</td>\n",
       "      <td>2</td>\n",
       "    </tr>\n",
       "    <tr>\n",
       "      <th>238</th>\n",
       "      <td>I</td>\n",
       "      <td>0.110</td>\n",
       "      <td>0.090</td>\n",
       "      <td>0.030</td>\n",
       "      <td>0.008</td>\n",
       "      <td>0.0025</td>\n",
       "      <td>0.0020</td>\n",
       "      <td>0.0030</td>\n",
       "      <td>3</td>\n",
       "    </tr>\n",
       "    <tr>\n",
       "      <th>237</th>\n",
       "      <td>I</td>\n",
       "      <td>0.130</td>\n",
       "      <td>0.100</td>\n",
       "      <td>0.030</td>\n",
       "      <td>0.013</td>\n",
       "      <td>0.0045</td>\n",
       "      <td>0.0030</td>\n",
       "      <td>0.0040</td>\n",
       "      <td>3</td>\n",
       "    </tr>\n",
       "    <tr>\n",
       "      <th>1429</th>\n",
       "      <td>I</td>\n",
       "      <td>0.140</td>\n",
       "      <td>0.105</td>\n",
       "      <td>0.035</td>\n",
       "      <td>0.014</td>\n",
       "      <td>0.0055</td>\n",
       "      <td>0.0025</td>\n",
       "      <td>0.0040</td>\n",
       "      <td>3</td>\n",
       "    </tr>\n",
       "  </tbody>\n",
       "</table>\n",
       "</div>"
      ],
      "text/plain": [
       "     sex  length  diameter  height  weight_whole  weight_shucked  viscera  \\\n",
       "236    I   0.075     0.055   0.010         0.002          0.0010   0.0005   \n",
       "719    I   0.150     0.100   0.025         0.015          0.0045   0.0040   \n",
       "238    I   0.110     0.090   0.030         0.008          0.0025   0.0020   \n",
       "237    I   0.130     0.100   0.030         0.013          0.0045   0.0030   \n",
       "1429   I   0.140     0.105   0.035         0.014          0.0055   0.0025   \n",
       "\n",
       "       shell  n_rings  \n",
       "236   0.0015        1  \n",
       "719   0.0050        2  \n",
       "238   0.0030        3  \n",
       "237   0.0040        3  \n",
       "1429  0.0040        3  "
      ]
     },
     "execution_count": 11,
     "metadata": {},
     "output_type": "execute_result"
    }
   ],
   "source": [
    "# Sort Data\n",
    "data_al_raw.sort_values(by=['n_rings', 'weight_whole']).head()"
   ]
  },
  {
   "cell_type": "markdown",
   "metadata": {},
   "source": [
    "## 04 : Data Visualization"
   ]
  },
  {
   "cell_type": "code",
   "execution_count": 14,
   "metadata": {},
   "outputs": [
    {
     "data": {
      "image/png": "[encoded data removed]",
      "text/plain": [
       "<Figure size 432x288 with 1 Axes>"
      ]
     },
     "metadata": {
      "needs_background": "light"
     },
     "output_type": "display_data"
    }
   ],
   "source": [
    "# Histogram of Length\n",
    "data_al_raw.length.hist();"
   ]
  },
  {
   "cell_type": "code",
   "execution_count": 15,
   "metadata": {},
   "outputs": [
    {
     "data": {
      "image/png": "[encoded data removed]",
      "text/plain": [
       "<Figure size 432x288 with 1 Axes>"
      ]
     },
     "metadata": {
      "needs_background": "light"
     },
     "output_type": "display_data"
    }
   ],
   "source": [
    "# Bar Plot of Sex\n",
    "data_al_raw.sex.value_counts().plot(kind='bar');"
   ]
  },
  {
   "cell_type": "markdown",
   "metadata": {},
   "source": [
    "Let's get fancy!"
   ]
  },
  {
   "cell_type": "code",
   "execution_count": 18,
   "metadata": {},
   "outputs": [
    {
     "name": "stderr",
     "output_type": "stream",
     "text": [
      "//anaconda3/envs/nf/lib/python3.6/site-packages/ipykernel_launcher.py:2: FutureWarning: 'pandas.tools.plotting.scatter_matrix' is deprecated, import 'pandas.plotting.scatter_matrix' instead.\n",
      "  \n"
     ]
    },
    {
     "data": {
      "image/png": "[encoded data removed]",
      "text/plain": [
       "<Figure size 432x288 with 9 Axes>"
      ]
     },
     "metadata": {
      "needs_background": "light"
     },
     "output_type": "display_data"
    }
   ],
   "source": [
    "scatter_matrix(data_al_raw[[\"length\", \"diameter\", \"height\"]],\n",
    "              diagonal='hist');"
   ]
  }
 ],
 "metadata": {
  "anaconda-cloud": {},
  "kernelspec": {
   "display_name": "Python 3",
   "language": "python",
   "name": "python3"
  },
  "language_info": {
   "codemirror_mode": {
    "name": "ipython",
    "version": 3
   },
   "file_extension": ".py",
   "mimetype": "text/x-python",
   "name": "python",
   "nbconvert_exporter": "python",
   "pygments_lexer": "ipython3",
   "version": "3.6.6"
  }
 },
 "nbformat": 4,
 "nbformat_minor": 1
}
