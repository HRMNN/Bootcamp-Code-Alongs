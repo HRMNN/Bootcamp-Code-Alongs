{
 "cells": [
  {
   "cell_type": "markdown",
   "metadata": {},
   "source": [
    "## Setting up Workshop"
   ]
  },
  {
   "cell_type": "code",
   "execution_count": 25,
   "metadata": {},
   "outputs": [],
   "source": [
    "## Import Libraries\n",
    "# DataFrames\n",
    "import pandas as pd\n",
    "# Visualization\n",
    "from matplotlib import pyplot as plt\n",
    "# Fancy Visualization\n",
    "import seaborn as sns\n",
    "\n",
    "## Import Functions\n",
    "# Random Number Generator\n",
    "from sklearn.datasets import make_classification\n",
    "# Logistc Regression Machine\n",
    "from sklearn.linear_model import LogisticRegression\n",
    "# Splitting Training and Testing Data\n",
    "from sklearn.model_selection import train_test_split\n",
    "# Confusion Matrix\n",
    "from sklearn.metrics import confusion_matrix\n",
    "\n",
    "## Setting up Seaborn\n",
    "sns.set()"
   ]
  },
  {
   "cell_type": "markdown",
   "metadata": {},
   "source": [
    "## Data Mining"
   ]
  },
  {
   "cell_type": "code",
   "execution_count": 26,
   "metadata": {},
   "outputs": [],
   "source": [
    "## Generate Random Numbers for Classification\n",
    "# 100 samples\n",
    "# 1 feature \n",
    "# 2 classes\n",
    "# 1 Cluster per class\n",
    "# 3% of Values switch classes\n",
    "# 1 informative feature\n",
    "# no redundant or repeatet features\n",
    "# As a result y being either 1 or 0 and x being on a spectrum\n",
    "x, y = make_classification(\n",
    "    n_samples            = 100,\n",
    "    n_features           = 1,\n",
    "    n_classes            = 2,\n",
    "    n_clusters_per_class = 1,\n",
    "    flip_y               = 0.03,\n",
    "    n_informative        = 1,\n",
    "    n_redundant          = 0,\n",
    "    n_repeated           = 0)"
   ]
  },
  {
   "cell_type": "markdown",
   "metadata": {},
   "source": [
    "## Data Exploration"
   ]
  },
  {
   "cell_type": "code",
   "execution_count": 27,
   "metadata": {
    "scrolled": false
   },
   "outputs": [
    {
     "data": {
      "image/png": "[encoded data removed]",
      "text/plain": [
       "<Figure size 432x288 with 1 Axes>"
      ]
     },
     "metadata": {},
     "output_type": "display_data"
    }
   ],
   "source": [
    "# Plot generated Data\n",
    "plt.scatter(x,\n",
    "            y,\n",
    "            c = y,\n",
    "            cmap = 'rainbow')\n",
    "plt.show()"
   ]
  },
  {
   "cell_type": "markdown",
   "metadata": {},
   "source": [
    "## Predictive Modeling"
   ]
  },
  {
   "cell_type": "code",
   "execution_count": 28,
   "metadata": {},
   "outputs": [],
   "source": [
    "# Split Data into training and testing Data\n",
    "x_train, x_test, y_train, y_test = train_test_split(x, y, random_state=1)"
   ]
  },
  {
   "cell_type": "code",
   "execution_count": 29,
   "metadata": {},
   "outputs": [
    {
     "data": {
      "text/plain": [
       "LogisticRegression(C=1.0, class_weight=None, dual=False, fit_intercept=True,\n",
       "          intercept_scaling=1, max_iter=100, multi_class='warn',\n",
       "          n_jobs=None, penalty='l2', random_state=None, solver='lbfgs',\n",
       "          tol=0.0001, verbose=0, warm_start=False)"
      ]
     },
     "execution_count": 29,
     "metadata": {},
     "output_type": "execute_result"
    }
   ],
   "source": [
    "# Create Logistic Regression Machine\n",
    "lr = LogisticRegression(solver='lbfgs')\n",
    "# Feed it the training Data\n",
    "lr.fit(x_train, y_train)"
   ]
  },
  {
   "cell_type": "code",
   "execution_count": 30,
   "metadata": {},
   "outputs": [
    {
     "name": "stdout",
     "output_type": "stream",
     "text": [
      "[[2.78287741]]\n",
      "[-0.19633418]\n"
     ]
    }
   ],
   "source": [
    "## Print Results:\n",
    "# slope of sigmoid function\n",
    "print(lr.coef_)\n",
    "# intercept of sigmoid function\n",
    "print(lr.intercept_)"
   ]
  },
  {
   "cell_type": "code",
   "execution_count": 31,
   "metadata": {},
   "outputs": [
    {
     "data": {
      "text/plain": [
       "array([[11,  2],\n",
       "       [ 1, 11]])"
      ]
     },
     "execution_count": 31,
     "metadata": {},
     "output_type": "execute_result"
    }
   ],
   "source": [
    "## Test Model on test Data\n",
    "# Pedrict using generated Model\n",
    "y_pred = lr.predict(x_test)\n",
    "# Show Confusion Matrix\n",
    "confusion_matrix(y_test, y_pred)"
   ]
  },
  {
   "cell_type": "code",
   "execution_count": 32,
   "metadata": {},
   "outputs": [
    {
     "data": {
      "text/plain": [
       "array([[0.05980803, 0.94019197],\n",
       "       [0.08073819, 0.91926181],\n",
       "       [0.94222289, 0.05777711],\n",
       "       [0.0439843 , 0.9560157 ],\n",
       "       [0.94896497, 0.05103503],\n",
       "       [0.92236857, 0.07763143],\n",
       "       [0.08879594, 0.91120406],\n",
       "       [0.07931837, 0.92068163],\n",
       "       [0.96485589, 0.03514411],\n",
       "       [0.09512919, 0.90487081],\n",
       "       [0.87656103, 0.12343897],\n",
       "       [0.06769551, 0.93230449],\n",
       "       [0.89887988, 0.10112012],\n",
       "       [0.87058516, 0.12941484],\n",
       "       [0.93521854, 0.06478146],\n",
       "       [0.94372927, 0.05627073],\n",
       "       [0.95219365, 0.04780635],\n",
       "       [0.07933528, 0.92066472],\n",
       "       [0.06239976, 0.93760024],\n",
       "       [0.04966589, 0.95033411],\n",
       "       [0.03770236, 0.96229764],\n",
       "       [0.84500681, 0.15499319],\n",
       "       [0.98711243, 0.01288757],\n",
       "       [0.05432366, 0.94567634],\n",
       "       [0.08497152, 0.91502848]])"
      ]
     },
     "execution_count": 32,
     "metadata": {},
     "output_type": "execute_result"
    }
   ],
   "source": [
    "# Show the Probabilities of each Observation belonging to 1 or 0\n",
    "lr.predict_proba(x_test)"
   ]
  },
  {
   "cell_type": "markdown",
   "metadata": {},
   "source": [
    "## Data Visualization"
   ]
  },
  {
   "cell_type": "code",
   "execution_count": 33,
   "metadata": {},
   "outputs": [
    {
     "data": {
      "image/png": "[encoded data removed]",
      "text/plain": [
       "<Figure size 432x288 with 1 Axes>"
      ]
     },
     "metadata": {},
     "output_type": "display_data"
    }
   ],
   "source": [
    "## Visualize Sigmoid Function + Test Data\n",
    "# Put Data into DataFrame\n",
    "df = pd.DataFrame({'x': x_test[:,0], 'y': y_test})\n",
    "# Sort Values\n",
    "df = df.sort_values(by='x')\n",
    "# Import Signoid Function\n",
    "from scipy.special import expit\n",
    "# Set up Signoid Function\n",
    "sigmoid_function = expit(df['x'] * lr.coef_[0][0] + lr.intercept_[0]).ravel()\n",
    "## Create plot\n",
    "plt.plot(df['x'], sigmoid_function)\n",
    "plt.scatter(df['x'], df['y'], c=df['y'], cmap='rainbow', edgecolors='b')\n",
    "plt.show()"
   ]
  }
 ],
 "metadata": {
  "kernelspec": {
   "display_name": "Python 3",
   "language": "python",
   "name": "python3"
  },
  "language_info": {
   "codemirror_mode": {
    "name": "ipython",
    "version": 3
   },
   "file_extension": ".py",
   "mimetype": "text/x-python",
   "name": "python",
   "nbconvert_exporter": "python",
   "pygments_lexer": "ipython3",
   "version": "3.6.6"
  }
 },
 "nbformat": 4,
 "nbformat_minor": 2
}
